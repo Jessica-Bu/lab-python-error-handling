{
 "cells": [
  {
   "cell_type": "markdown",
   "id": "25d7736c-ba17-4aff-b6bb-66eba20fbf4e",
   "metadata": {},
   "source": [
    "# Lab | Error Handling"
   ]
  },
  {
   "cell_type": "markdown",
   "id": "bc99b386-7508-47a0-bcdb-d969deaf6c8b",
   "metadata": {},
   "source": [
    "## Exercise: Error Handling for Managing Customer Orders\n",
    "\n",
    "The implementation of your code for managing customer orders assumes that the user will always enter a valid input. \n",
    "\n",
    "For example, we could modify the `initialize_inventory` function to include error handling.\n",
    "   - If the user enters an invalid quantity (e.g., a negative value or a non-numeric value), display an error message and ask them to re-enter the quantity for that product.\n",
    "   - Use a try-except block to handle the error and continue prompting the user until a valid quantity is entered.\n",
    "\n",
    "```python\n",
    "# Step 1: Define the function for initializing the inventory with error handling\n",
    "def initialize_inventory(products):\n",
    "    inventory = {}\n",
    "    for product in products:\n",
    "        valid_quantity = False\n",
    "        while not valid_quantity:\n",
    "            try:\n",
    "                quantity = int(input(f\"Enter the quantity of {product}s available: \"))\n",
    "                if quantity < 0:\n",
    "                    raise ValueError(\"Invalid quantity! Please enter a non-negative value.\")\n",
    "                valid_quantity = True\n",
    "            except ValueError as error:\n",
    "                print(f\"Error: {error}\")\n",
    "        inventory[product] = quantity\n",
    "    return inventory\n",
    "\n",
    "# Or, in another way:\n",
    "\n",
    "def initialize_inventory(products):\n",
    "    inventory = {}\n",
    "    for product in products:\n",
    "        valid_input = False\n",
    "        while not valid_input:\n",
    "            try:\n",
    "                quantity = int(input(f\"Enter the quantity of {product}s available: \"))\n",
    "                if quantity >= 0:\n",
    "                    inventory[product] = quantity\n",
    "                    valid_input = True\n",
    "                else:\n",
    "                    print(\"Quantity cannot be negative. Please enter a valid quantity.\")\n",
    "            except ValueError:\n",
    "                print(\"Invalid input. Please enter a valid quantity.\")\n",
    "    return inventory\n",
    "```\n",
    "\n",
    "Let's enhance your code by implementing error handling to handle invalid inputs.\n",
    "\n",
    "Follow the steps below to complete the exercise:\n",
    "\n",
    "2. Modify the `calculate_total_price` function to include error handling.\n",
    "   - If the user enters an invalid price (e.g., a negative value or a non-numeric value), display an error message and ask them to re-enter the price for that product.\n",
    "   - Use a try-except block to handle the error and continue prompting the user until a valid price is entered.\n",
    "\n",
    "3. Modify the `get_customer_orders` function to include error handling.\n",
    "   - If the user enters an invalid number of orders (e.g., a negative value or a non-numeric value), display an error message and ask them to re-enter the number of orders.\n",
    "   - If the user enters an invalid product name (e.g., a product name that is not in the inventory), or that doesn't have stock available, display an error message and ask them to re-enter the product name. *Hint: you will need to pass inventory as a parameter*\n",
    "   - Use a try-except block to handle the error and continue prompting the user until a valid product name is entered.\n",
    "\n",
    "4. Test your code by running the program and deliberately entering invalid quantities and product names. Make sure the error handling mechanism works as expected.\n"
   ]
  },
  {
   "cell_type": "code",
   "execution_count": 4,
   "id": "e4b708ac-1936-4982-818b-6e7e5a5cda8d",
   "metadata": {},
   "outputs": [
    {
     "name": "stdin",
     "output_type": "stream",
     "text": [
      "Please enter stock for article t-shirt 1\n",
      "Please enter stock for article mug 2\n",
      "Please enter stock for article hat 3\n",
      "Please enter stock for article book 4\n",
      "Please enter stock for article keychain 5\n"
     ]
    },
    {
     "name": "stdout",
     "output_type": "stream",
     "text": [
      "{'t-shirt': 1, 'mug': 2, 'hat': 3, 'book': 4, 'keychain': 5}\n"
     ]
    },
    {
     "name": "stdin",
     "output_type": "stream",
     "text": [
      "Please enter the number of products you would like to order. 1\n",
      "Please enter 0 for t-shirt, 1 for mug, 2 for hat, 3 for book or 4 for keychain 0\n"
     ]
    },
    {
     "name": "stdout",
     "output_type": "stream",
     "text": [
      "{'t-shirt'}\n",
      "Order Statistics:\n",
      "    Total Products Ordered: 1\n",
      "    Percentage of Products Ordered: 20.0 %\n",
      "['The stock for mug is 2', 'The stock for hat is 3', 'The stock for book is 4', 'The stock for keychain is 5']\n"
     ]
    },
    {
     "name": "stdin",
     "output_type": "stream",
     "text": [
      "Please enter the price of product t-shirt:  5\n"
     ]
    },
    {
     "name": "stdout",
     "output_type": "stream",
     "text": [
      "The total price of your order is: 5.0 EUR.\n"
     ]
    }
   ],
   "source": [
    "def initialize_inventory(products):\n",
    "    \"\"\"Initializing a dictionary for inventory input\"\"\"\n",
    "    inventory = {}\n",
    "    for product in products:\n",
    "        valid_input = False\n",
    "        while not valid_input:\n",
    "            try:\n",
    "                stock = int(input(f\"Please enter stock for article {product}\"))\n",
    "                if stock >= 0:\n",
    "                    inventory[product] = stock\n",
    "                    valid_input = True\n",
    "                else:\n",
    "                    print(\"Invalid input. Please enter a valid quantity.\")\n",
    "            except:\n",
    "                    print(\"Invalid input. Please enter a valid quantity.\")\n",
    "    return inventory\n",
    "\n",
    "def get_customer_orders():\n",
    "    \"\"\"Creates Set for customer order input\"\"\"\n",
    "    valid_input = False\n",
    "    while not valid_input:\n",
    "        try:\n",
    "            amount_products = int(input(\"Please enter the number of products you would like to order.\"))\n",
    "            if amount_products >= 0 and amount_products <=5:\n",
    "                valid_input = True\n",
    "            else:\n",
    "                print(\"Invalid input. Please enter a number between 1 and 5.\")\n",
    "        except:\n",
    "            print(\"Invalid input. Please enter a positive number.\")\n",
    "    customer_orders = set()\n",
    "    for order in range(amount_products):\n",
    "        valid_input = False\n",
    "        while not valid_input:\n",
    "            try:\n",
    "                number_articles = int(input(\"Please enter 0 for t-shirt, 1 for mug, 2 for hat, 3 for book or 4 for keychain\"))\n",
    "                if number_articles >= 0 and number_articles <= 4:\n",
    "                    customer_orders.add(products[number_articles])\n",
    "                    valid_input = True\n",
    "                else:\n",
    "                    print(\"Please enter a number between 1 and 4.\")\n",
    "            except:\n",
    "                print(\"Invalid input. Please enter a number between 1 and 4.\")\n",
    "    return customer_orders\n",
    "\n",
    "def update_inventory(customer_orders, inventory):\n",
    "    inventory = {product: (stock - 1 if product in customer_orders else inventory[product]) for product, stock in inventory.items()}\n",
    "    inventory = {product: stock for product, stock in inventory.items() if stock > 0}\n",
    "    return inventory\n",
    "\n",
    "def calculate_order_statistics(customer_orders, products):\n",
    "    total_products_ordered = len(customer_orders)\n",
    "    percentage_ordered = (len(customer_orders)/len(products))*100\n",
    "    return(total_products_ordered, percentage_ordered)\n",
    "\n",
    "def print_order_statistics(order_statistics):\n",
    "    print(f\"\"\"Order Statistics:\n",
    "    Total Products Ordered: {order_statistics[0]}\n",
    "    Percentage of Products Ordered: {order_statistics[1]} %\"\"\")\n",
    "\n",
    "def print_updated_inventory(inventory):\n",
    "    updated_inventory = [f\"The stock for {product} is {inventory[product]}\" for product in inventory]\n",
    "    print(updated_inventory)\n",
    "\n",
    "def calculate_total_price(customer_orders):\n",
    "    \"\"\"Calculates total price of customer orders\"\"\"\n",
    "    total_price = []\n",
    "    for product in customer_orders:\n",
    "        valid_input = False\n",
    "        while not valid_input:\n",
    "            try:\n",
    "                price = float(input(f\"Please enter the price of product {product}: \"))\n",
    "                if price >= 0:\n",
    "                    total_price.append(price)\n",
    "                    valid_input = True\n",
    "                else:\n",
    "                    print(\"Please enter a valid price.\")\n",
    "            except ValueError:\n",
    "                print(\"Please enter a valid price.\")\n",
    "    total_price = sum(total_price)\n",
    "    return total_price\n",
    "\n",
    "products = [\"t-shirt\", \"mug\", \"hat\", \"book\", \"keychain\"]\n",
    "\n",
    "inventory = initialize_inventory(products)\n",
    "print(inventory)\n",
    "\n",
    "customer_orders = get_customer_orders()\n",
    "print(customer_orders)\n",
    "\n",
    "order_statistics = calculate_order_statistics(customer_orders, products)\n",
    "\n",
    "print_order_statistics(order_statistics)\n",
    "\n",
    "inventory = update_inventory(customer_orders, inventory)\n",
    "\n",
    "print_updated_inventory(inventory)\n",
    "\n",
    "total_price = calculate_total_price(customer_orders)\n",
    "print(f\"The total price of your order is: {total_price} EUR.\")\n"
   ]
  },
  {
   "cell_type": "code",
   "execution_count": null,
   "id": "95aac34b-3feb-4d08-80e7-eaeaddcb43d7",
   "metadata": {},
   "outputs": [],
   "source": []
  }
 ],
 "metadata": {
  "kernelspec": {
   "display_name": "Python [conda env:base] *",
   "language": "python",
   "name": "conda-base-py"
  },
  "language_info": {
   "codemirror_mode": {
    "name": "ipython",
    "version": 3
   },
   "file_extension": ".py",
   "mimetype": "text/x-python",
   "name": "python",
   "nbconvert_exporter": "python",
   "pygments_lexer": "ipython3",
   "version": "3.12.7"
  }
 },
 "nbformat": 4,
 "nbformat_minor": 5
}
